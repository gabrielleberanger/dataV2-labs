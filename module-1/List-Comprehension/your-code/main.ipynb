{
 "cells": [
  {
   "cell_type": "markdown",
   "metadata": {},
   "source": [
    "# List Comprehensions\n",
    "\n",
    "Complete the following set of exercises to solidify your knowledge of list comprehensions."
   ]
  },
  {
   "cell_type": "code",
   "execution_count": null,
   "metadata": {},
   "outputs": [],
   "source": [
    "import os"
   ]
  },
  {
   "cell_type": "markdown",
   "metadata": {},
   "source": [
    "#### 1. Use a list comprehension to create and print a list of consecutive integers starting with 1 and ending with 50."
   ]
  },
  {
   "cell_type": "code",
   "execution_count": 25,
   "metadata": {},
   "outputs": [
    {
     "name": "stdout",
     "output_type": "stream",
     "text": [
      "[150, 1050, 1150, 1250, 1350, 1450, 1550, 1650, 1750, 1850, 1950]\n"
     ]
    }
   ],
   "source": [
    "list_1 = [i for i in range(150,10000) if (str(i)[0]==\"1\") and (str(i)[-2:]==\"50\")]\n",
    "print(list_1)"
   ]
  },
  {
   "cell_type": "markdown",
   "metadata": {},
   "source": [
    "#### 2. Use a list comprehension to create and print a list of even numbers starting with 2 and ending with 200."
   ]
  },
  {
   "cell_type": "code",
   "execution_count": 33,
   "metadata": {},
   "outputs": [
    {
     "name": "stdout",
     "output_type": "stream",
     "text": [
      "[200, 2200, 20200, 21200, 22200, 23200, 24200, 25200, 26200, 27200, 28200, 29200]\n"
     ]
    }
   ],
   "source": [
    "list_2 = [i for i in range(200,200000) if (i%2 ==0) and (str(i)[0]==\"2\") and (str(i)[-3:]==\"200\")]\n",
    "print(list_2)"
   ]
  },
  {
   "cell_type": "markdown",
   "metadata": {},
   "source": [
    "#### 3. Use a list comprehension to create and print a list containing all elements of the 10 x 4 array below."
   ]
  },
  {
   "cell_type": "code",
   "execution_count": 41,
   "metadata": {},
   "outputs": [
    {
     "name": "stdout",
     "output_type": "stream",
     "text": [
      "[0.84062117, 0.48006452, 0.7876326, 0.77109654, 0.44409793, 0.09014516, 0.81835917, 0.87645456, 0.7066597, 0.09610873, 0.41247947, 0.57433389, 0.29960807, 0.42315023, 0.34452557, 0.4751035, 0.17003563, 0.46843998, 0.92796258, 0.69814654, 0.41290051, 0.19561071, 0.16284783, 0.97016248, 0.71725408, 0.87702738, 0.31244595, 0.76615487, 0.20754036, 0.57871812, 0.07214068, 0.40356048, 0.12149553, 0.53222417, 0.9976855, 0.12536346, 0.80930099, 0.50962849, 0.94555126, 0.33364763]\n"
     ]
    }
   ],
   "source": [
    "a = [[0.84062117, 0.48006452, 0.7876326 , 0.77109654],\n",
    "       [0.44409793, 0.09014516, 0.81835917, 0.87645456],\n",
    "       [0.7066597 , 0.09610873, 0.41247947, 0.57433389],\n",
    "       [0.29960807, 0.42315023, 0.34452557, 0.4751035 ],\n",
    "       [0.17003563, 0.46843998, 0.92796258, 0.69814654],\n",
    "       [0.41290051, 0.19561071, 0.16284783, 0.97016248],\n",
    "       [0.71725408, 0.87702738, 0.31244595, 0.76615487],\n",
    "       [0.20754036, 0.57871812, 0.07214068, 0.40356048],\n",
    "       [0.12149553, 0.53222417, 0.9976855 , 0.12536346],\n",
    "       [0.80930099, 0.50962849, 0.94555126, 0.33364763]]\n",
    "\n",
    "list_a = [item for lst in a for item in lst]\n",
    "print(list_a)"
   ]
  },
  {
   "cell_type": "markdown",
   "metadata": {},
   "source": [
    "#### 4. Add a condition to the list comprehension above so that only values greater than or equal to 0.5 are printed."
   ]
  },
  {
   "cell_type": "code",
   "execution_count": 46,
   "metadata": {},
   "outputs": [
    {
     "name": "stdout",
     "output_type": "stream",
     "text": [
      "[0.84062117, 0.7876326, 0.77109654, 0.81835917, 0.87645456, 0.7066597, 0.57433389, 0.92796258, 0.69814654, 0.97016248, 0.71725408, 0.87702738, 0.76615487, 0.57871812, 0.53222417, 0.9976855, 0.80930099, 0.50962849, 0.94555126]\n"
     ]
    }
   ],
   "source": [
    "list_a_bis = [item for lst in a for item in lst if item >= 0.5]\n",
    "print(list_a_bis)"
   ]
  },
  {
   "cell_type": "markdown",
   "metadata": {},
   "source": [
    "#### 5. Use a list comprehension to create and print a list containing all elements of the 5 x 2 x 3 array below."
   ]
  },
  {
   "cell_type": "code",
   "execution_count": 9,
   "metadata": {},
   "outputs": [
    {
     "name": "stdout",
     "output_type": "stream",
     "text": [
      "[0.55867166, 0.06210792, 0.08147297, 0.82579068, 0.91512478, 0.06833034, 0.05440634, 0.65857693, 0.30296619, 0.06769833, 0.96031863, 0.51293743, 0.09143215, 0.71893382, 0.45850679, 0.58256464, 0.59005654, 0.56266457, 0.71600294, 0.87392666, 0.11434044, 0.8694668, 0.65669313, 0.10708681, 0.07529684, 0.46470767, 0.47984544, 0.65368638, 0.14901286, 0.23760688]\n"
     ]
    }
   ],
   "source": [
    "b = [[[0.55867166, 0.06210792, 0.08147297],\n",
    "        [0.82579068, 0.91512478, 0.06833034]],\n",
    "\n",
    "       [[0.05440634, 0.65857693, 0.30296619],\n",
    "        [0.06769833, 0.96031863, 0.51293743]],\n",
    "\n",
    "       [[0.09143215, 0.71893382, 0.45850679],\n",
    "        [0.58256464, 0.59005654, 0.56266457]],\n",
    "\n",
    "       [[0.71600294, 0.87392666, 0.11434044],\n",
    "        [0.8694668 , 0.65669313, 0.10708681]],\n",
    "\n",
    "       [[0.07529684, 0.46470767, 0.47984544],\n",
    "        [0.65368638, 0.14901286, 0.23760688]]]\n",
    "\n",
    "list_b = [level_3 for level_1 in b for level_2 in level_1 for level_3 in level_2]\n",
    "print(list_b)"
   ]
  },
  {
   "cell_type": "markdown",
   "metadata": {},
   "source": [
    "#### 6. Add a condition to the list comprehension above so that the last value in each subarray is printed, but only if it is less than or equal to 0.5."
   ]
  },
  {
   "cell_type": "code",
   "execution_count": 10,
   "metadata": {},
   "outputs": [
    {
     "name": "stdout",
     "output_type": "stream",
     "text": [
      "[0.08147297, 0.06833034, 0.30296619, 0.45850679, 0.11434044, 0.10708681, 0.47984544, 0.23760688]\n"
     ]
    }
   ],
   "source": [
    "list_b_bis = [level_3 for level_1 in b for level_2 in level_1 for level_3 in level_2 if (level_3 <= 0.5 and level_3 == level_2[-1])]\n",
    "print(list_b_bis)"
   ]
  },
  {
   "cell_type": "markdown",
   "metadata": {},
   "source": [
    "#### 7. Use a list comprehension to select and print the names of all CSV files in the */data* directory."
   ]
  },
  {
   "cell_type": "code",
   "execution_count": 11,
   "metadata": {},
   "outputs": [
    {
     "name": "stdout",
     "output_type": "stream",
     "text": [
      "['sample_file_1.csv', 'sample_file_0.csv', 'sample_file_2.csv', 'sample_file_3.csv', 'sample_file_7.csv', 'sample_file_6.csv', 'sample_file_4.csv', 'sample_file_5.csv', 'sample_file_8.csv', 'sample_file_9.csv']\n"
     ]
    }
   ],
   "source": [
    "import os\n",
    "\n",
    "path = \"/Users/gabrielleberanger/Desktop/dataV2-labs/module-1/List-Comprehension/data\"\n",
    "files = os.listdir(path)\n",
    "\n",
    "datasets = [file for file in files if file.endswith(\".csv\")]\n",
    "print(datasets)"
   ]
  },
  {
   "cell_type": "markdown",
   "metadata": {},
   "source": [
    "### Bonus"
   ]
  },
  {
   "cell_type": "markdown",
   "metadata": {},
   "source": [
    "Try to solve these katas using list comprehensions."
   ]
  },
  {
   "cell_type": "markdown",
   "metadata": {},
   "source": [
    "**Easy**\n",
    "- [Insert values](https://www.codewars.com/kata/invert-values)\n",
    "- [Sum Square(n)](https://www.codewars.com/kata/square-n-sum)\n",
    "- [Digitize](https://www.codewars.com/kata/digitize)\n",
    "- [List filtering](https://www.codewars.com/kata/list-filtering)\n",
    "- [Arithmetic list](https://www.codewars.com/kata/541da001259d9ca85d000688)\n",
    "\n",
    "**Medium**\n",
    "- [Multiples of 3 or 5](https://www.codewars.com/kata/514b92a657cdc65150000006)\n",
    "- [Count of positives / sum of negatives](https://www.codewars.com/kata/count-of-positives-slash-sum-of-negatives)\n",
    "- [Categorize new member](https://www.codewars.com/kata/5502c9e7b3216ec63c0001aa)\n",
    "\n",
    "**Advanced**\n",
    "- [Queue time counter](https://www.codewars.com/kata/queue-time-counter)"
   ]
  },
  {
   "cell_type": "code",
   "execution_count": 65,
   "metadata": {},
   "outputs": [
    {
     "name": "stdout",
     "output_type": "stream",
     "text": [
      "True\n",
      "True\n",
      "True\n"
     ]
    }
   ],
   "source": [
    "#Invert values\n",
    "\n",
    "def invert(lst):\n",
    "    \n",
    "    if type(lst) != list:\n",
    "        raise TypeError(\"Your input should be a list.\")\n",
    "        \n",
    "    inverted_lst = [-i for i in lst]\n",
    "    return inverted_lst\n",
    "\n",
    "#Test\n",
    "print(invert([1,2,3,4,5]) == [-1,-2,-3,-4,-5])\n",
    "print(invert([1,-2,3,-4,5]) == [-1,2,-3,4,-5])\n",
    "print(invert([]) == [])"
   ]
  },
  {
   "cell_type": "code",
   "execution_count": 38,
   "metadata": {},
   "outputs": [
    {
     "name": "stdout",
     "output_type": "stream",
     "text": [
      "True\n"
     ]
    }
   ],
   "source": [
    "#Sum Square(n)\n",
    "\n",
    "def sum_square(lst):\n",
    "    \n",
    "    if type(lst) != list:\n",
    "        raise TypeError(\"Your input should be a list.\")\n",
    "        \n",
    "    square_lst = [i**2 for i in lst]\n",
    "    sum_square_value = 0\n",
    "    for i in square_lst:\n",
    "        sum_square_value += i\n",
    "    return sum_square_value\n",
    "\n",
    "#Test\n",
    "print(sum_square([1, 2, 2])==9)"
   ]
  },
  {
   "cell_type": "code",
   "execution_count": 77,
   "metadata": {},
   "outputs": [
    {
     "name": "stdout",
     "output_type": "stream",
     "text": [
      "True\n",
      "True\n",
      "True\n"
     ]
    }
   ],
   "source": [
    "#Digitize\n",
    "\n",
    "def digitize(integer):\n",
    "    \n",
    "    if type(integer) != int or integer < 0:\n",
    "        raise TypeError(\"Your input should be a positive integer.\")\n",
    "        \n",
    "    lst = [int(i) for i in str(integer)]\n",
    "    return lst\n",
    "\n",
    "#Test\n",
    "print(digitize(123)==[1,2,3])\n",
    "print(digitize(1)==[1])\n",
    "print(digitize(8675309)==[8,6,7,5,3,0,9])"
   ]
  },
  {
   "cell_type": "code",
   "execution_count": 75,
   "metadata": {},
   "outputs": [
    {
     "name": "stdout",
     "output_type": "stream",
     "text": [
      "True\n",
      "True\n",
      "True\n"
     ]
    }
   ],
   "source": [
    "#List filtering\n",
    "\n",
    "def filter_list(lst):\n",
    "    \n",
    "    if type(lst) != list:\n",
    "        raise TypeError(\"Your input should be a list.\")\n",
    "    for i in lst:\n",
    "        if ((type(i) != int) and (type(i) != str)) or ((type(i) == int) and (i < 0)):\n",
    "            raise TypeError(\"Your input should be a list containing only positive integers or strings.\")\n",
    "    \n",
    "    new_lst = [i for i in lst if type(i)==int]\n",
    "    return new_lst\n",
    "\n",
    "#Test\n",
    "print(filter_list([1,2,'a','b']) == [1,2])\n",
    "print(filter_list([1,'a','b',0,15]) == [1,0,15])\n",
    "print(filter_list([1,2,'aasf','1','123',123]) == [1,2,123])"
   ]
  },
  {
   "cell_type": "code",
   "execution_count": 67,
   "metadata": {},
   "outputs": [
    {
     "name": "stdout",
     "output_type": "stream",
     "text": [
      "True\n",
      "True\n"
     ]
    }
   ],
   "source": [
    "#Arithmetic list\n",
    "\n",
    "def sequence(first,c,l):\n",
    "    \n",
    "    \"\"\"Function returning an arithmetic sequence, defined through 3 parameters:\n",
    "    - first : the first term in the sequence\n",
    "    - c : the constant that you are going to add\n",
    "    - l : the number of terms that should be returned\"\"\"\n",
    "    \n",
    "    if (type(first) != int) or (type(c) != int) or (type(first) != int):\n",
    "        raise TypeError(\"All input parameters should be integers.\")\n",
    "    elif l <= 0:\n",
    "        raise ValueError(\"The number of items to be returned should be a positive integer.\")\n",
    "        \n",
    "    seq = [first+c*i for i in range(0,l)]\n",
    "    return seq\n",
    "\n",
    "#Test\n",
    "print(sequence(1,1,10)==[1, 2, 3, 4, 5, 6, 7, 8, 9, 10])\n",
    "print(sequence(1,2,5)==[1, 3, 5, 7, 9])"
   ]
  },
  {
   "cell_type": "code",
   "execution_count": 1,
   "metadata": {},
   "outputs": [
    {
     "name": "stdout",
     "output_type": "stream",
     "text": [
      "False\n"
     ]
    }
   ],
   "source": [
    "#Multiples of 3 and 5\n",
    "\n",
    "def multiples(top_nb):\n",
    "    \n",
    "    \"\"\"Function that returns a list of all multiples of 3 and 5 that are below the top_nb.\"\"\"\n",
    "    \n",
    "    if type(top_nb) != int:\n",
    "        raise TypeError(\"Your input should be an integer.\")\n",
    "    elif top_nb < 0:\n",
    "        raise ValueError(\"Your input should be a positive number.\")\n",
    "        \n",
    "    multiples_lst = [i for i in range(top_nb) if (i%3==0 or i%5==0)]\n",
    "    return sum(multiples_lst)\n",
    "\n",
    "#Test\n",
    "print(multiples(10)==[0, 3, 5, 6, 9])"
   ]
  },
  {
   "cell_type": "code",
   "execution_count": 107,
   "metadata": {},
   "outputs": [
    {
     "name": "stdout",
     "output_type": "stream",
     "text": [
      "True\n",
      "True\n"
     ]
    }
   ],
   "source": [
    "#Count of positives / sum of negatives\n",
    "\n",
    "def count_positives_sum_negatives(lst):\n",
    "    \n",
    "    \"\"\"Function that returns an array,\n",
    "    where the first element is the count of positives numbers\n",
    "    and the second element is sum of negative numbers.\n",
    "    If the input array is empty or null, return an empty array.\"\"\"\n",
    "\n",
    "    if type(lst) != list:\n",
    "        raise TypeError(\"Your input should be a list.\")\n",
    "    for i in lst:\n",
    "        if type(i) != int:\n",
    "            raise TypeError(\"Each element of your list should be an integer.\")\n",
    "    \n",
    "    positive_bool = [1 for nb in lst if nb > 0]\n",
    "    negative_nb = [nb for nb in lst if nb < 0]\n",
    "    \n",
    "    if lst != []:\n",
    "        result = [sum(positive_bool),sum(negative_nb)]\n",
    "    else:\n",
    "        result = []\n",
    "    \n",
    "    return result\n",
    "\n",
    "#Test\n",
    "print(count_positives_sum_negatives([1, 2, 3, 4, 5, 6, 7, 8, 9, 10, -11, -12, -13, -14, -15])==[10, -65])\n",
    "print(count_positives_sum_negatives([])==[])"
   ]
  },
  {
   "cell_type": "code",
   "execution_count": 102,
   "metadata": {},
   "outputs": [
    {
     "name": "stdout",
     "output_type": "stream",
     "text": [
      "True\n"
     ]
    }
   ],
   "source": [
    "#Categorize new member\n",
    "\n",
    "def categorize_member(members):\n",
    "    \n",
    "    \"\"\"Function that takes as an input\n",
    "    a nested list of members [age,handicap],\n",
    "    and returns their membership category:\n",
    "    - Senior : if age >= 55 and handicap > 7\n",
    "    - Open : any other case\"\"\"\n",
    "    \n",
    "    ages = [member[0] for member in members]\n",
    "    handicaps = [member[1] for member in members]\n",
    "    \n",
    "    for age in ages:\n",
    "        if age < 0:\n",
    "            raise ValueError(\"Ages should be positive numbers.\")\n",
    "        if type(age) != int:\n",
    "            raise TypeError(\"Ages should be integers.\")\n",
    "    for handicap in handicaps:\n",
    "        if handicap not in range(-2,27):\n",
    "            raise ValueError(\"Handicaps should range from -2 to +26.\")\n",
    "        if type(handicap) != int:\n",
    "            raise TypeError(\"Handicaps should be integers.\")\n",
    "    \n",
    "    return [\"Senior\" if (member[0]>=55 and member[1]>7) else \"Open\" for member in members]\n",
    "\n",
    "#Test\n",
    "print(categorize_member([[18, 20],[45, 2],[61, 12],[37, 6],[21, 21],[78, 9]])==[\"Open\", \"Open\", \"Senior\", \"Open\", \"Open\", \"Senior\"])"
   ]
  },
  {
   "cell_type": "code",
   "execution_count": 19,
   "metadata": {},
   "outputs": [
    {
     "name": "stdout",
     "output_type": "stream",
     "text": [
      "True\n",
      "True\n",
      "True\n",
      "True\n",
      "True\n"
     ]
    }
   ],
   "source": [
    "#Queue time counter\n",
    "\n",
    "def queue_time_counter(queue,position):\n",
    "    \"\"\"Function that calculates the time (in minutes)\n",
    "    your buddy will need to wait until he gets all his tickets.\n",
    "    - position : position of your buddy in the queue\n",
    "    - queue : ordered list in which each item represents the number of tickets\n",
    "    that each queue member wants to purchase.\"\"\"\n",
    "    \n",
    "    if type(queue) != list:\n",
    "        raise TypeError(\"The queue should be a list.\")\n",
    "    for nb_tickets in queue:\n",
    "        if (type(nb_tickets) != int) or (nb_tickets <1):\n",
    "            raise TypeError(\"The queue should be a list of positive integers greater or equal to 1.\")\n",
    "    if (type(position) != int) and (position < 0):\n",
    "        raise TypeError(\"The position should be a positive integer greater or equal to 1.\")\n",
    "    \n",
    "    time_per_ticket = 1\n",
    "    time_queuing = 0\n",
    "\n",
    "    while queue[position] > 0: #As long as our buddy did not get all tickets\n",
    "    \n",
    "        #The first person in the queue gets a ticket\n",
    "        queue = [queue[i]-1 if i ==0 else queue[i] for i in range(len(queue))]\n",
    "        time_queuing += time_per_ticket\n",
    "    \n",
    "        #We create queue for next round\n",
    "        if queue[position] == 0:\n",
    "            break\n",
    "        elif queue[0] != 0:\n",
    "            queue.append(queue[0])\n",
    "            queue = queue[1:]\n",
    "        else:\n",
    "            queue = queue[1:]\n",
    "        \n",
    "        #We calculate the new position of our buddy\n",
    "        if position > 0:\n",
    "            position -= 1\n",
    "        elif position == 0:\n",
    "            position = len(queue)-1\n",
    "    \n",
    "    return time_queuing\n",
    "\n",
    "#Test\n",
    "print(queue_time_counter([2, 5, 3, 6, 4], 0)==6)\n",
    "print(queue_time_counter([2, 5, 3, 6, 4], 1)==18)\n",
    "print(queue_time_counter([2, 5, 3, 6, 4], 2)==12)\n",
    "print(queue_time_counter([2, 5, 3, 6, 4], 3)==20)\n",
    "print(queue_time_counter([2, 5, 3, 6, 4], 4)==17)"
   ]
  },
  {
   "cell_type": "code",
   "execution_count": null,
   "metadata": {},
   "outputs": [],
   "source": []
  }
 ],
 "metadata": {
  "kernelspec": {
   "display_name": "Python 3",
   "language": "python",
   "name": "python3"
  },
  "language_info": {
   "codemirror_mode": {
    "name": "ipython",
    "version": 3
   },
   "file_extension": ".py",
   "mimetype": "text/x-python",
   "name": "python",
   "nbconvert_exporter": "python",
   "pygments_lexer": "ipython3",
   "version": "3.7.4"
  }
 },
 "nbformat": 4,
 "nbformat_minor": 2
}
